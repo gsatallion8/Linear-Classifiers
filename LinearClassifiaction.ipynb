{
 "cells": [
  {
   "cell_type": "markdown",
   "metadata": {},
   "source": [
    "## Linear Classification:"
   ]
  },
  {
   "cell_type": "code",
   "execution_count": 1,
   "metadata": {
    "collapsed": true
   },
   "outputs": [],
   "source": [
    "%matplotlib inline\n",
    "import numpy as np\n",
    "import pandas as pd\n",
    "import matplotlib.pyplot as plt\n",
    "from scipy.special import expit"
   ]
  },
  {
   "cell_type": "markdown",
   "metadata": {},
   "source": [
    "$\\textbf{Definition of the classification algorithms:}$"
   ]
  },
  {
   "cell_type": "code",
   "execution_count": 2,
   "metadata": {
    "collapsed": true
   },
   "outputs": [],
   "source": [
    "def softmax(z):\n",
    "    z -= np.max(z)\n",
    "    sm = (np.exp(z).T / np.sum(np.exp(z))).T\n",
    "    return sm"
   ]
  },
  {
   "cell_type": "code",
   "execution_count": 3,
   "metadata": {
    "collapsed": false
   },
   "outputs": [],
   "source": [
    "class LogisticRegressionClass():\n",
    "    def __init__(self, learning_rate=0.01, stopping_criterion=0.01, max_iterations=1000, max_epochs=10):\n",
    "        self.learning_rate = learning_rate\n",
    "        self.stopping_criterion = stopping_criterion\n",
    "        self.max_iterations = max_iterations\n",
    "        self.max_epochs = max_epochs\n",
    "        self.w = None\n",
    "    \n",
    "    def BinaryClassifier_fit(self, x, y):\n",
    "        m = x.shape[0]\n",
    "        n = x.shape[1]\n",
    "        self.w = np.random.randn(n)\n",
    "        gradient = np.zeros(n)\n",
    "        cost = np.zeros(self.max_epochs)\n",
    "        \n",
    "        for epoch in range(0,self.max_epochs):\n",
    "            for i in range(0,m):\n",
    "                y_hat=expit(np.dot(self.w,x[i,:]))\n",
    "                gradient=(y_hat-y[i])*x[i,:]\n",
    "                self.w-=self.learning_rate*gradient\n",
    "                cost[epoch]-=(y[i]*np.log(y_hat)+(1-y[i])*np.log(1-y_hat))\n",
    "        \n",
    "        plt.plot(cost)\n",
    "        return self.w\n",
    "    \n",
    "    def MultinomialRegression_fit(self, x, y):\n",
    "        if(x.shape[0]!=y.shape[0]):\n",
    "            print \"Number of examples of features and outputs don't match\"\n",
    "            return\n",
    "        \n",
    "        m = x.shape[0]\n",
    "        n = x.shape[1]\n",
    "        k = y.shape[1]\n",
    "        \n",
    "        self.w = np.random.randn(k,n)\n",
    "        gradient = np.zeros((k,n))\n",
    "        cost = np.zeros(self.max_epochs)\n",
    "        \n",
    "        for epoch in range(0,self.max_epochs):\n",
    "            print epoch\n",
    "            for i in range(0,m):\n",
    "                y_hat = softmax(np.reshape(np.matmul(self.w,x[i,:]),k))\n",
    "                for j in range(0,k):\n",
    "                    gradient = (y_hat[j]-y[i,j])*x[i,:]\n",
    "                    self.w[j,:]-=self.learning_rate*gradient\n",
    "#                     cost[epoch]-=y[i,j]*np.log(y_hat[j])\n",
    "        \n",
    "#         plt.plot(cost)\n",
    "        return self.w\n",
    "    \n",
    "    def BinaryClassifier_predict(self, x):\n",
    "        m = x.shape[0]\n",
    "        n = x.shape[1]\n",
    "        y = np.zeros(m)\n",
    "        for i in range(0,m):\n",
    "            y[i] = expit(np.dot(self.w,x[i,:]))\n",
    "        \n",
    "        return y\n",
    "    \n",
    "    def MultinomialRegression_predict(self, x):\n",
    "        m = x.shape[0]\n",
    "        n = x.shape[1]\n",
    "        \n",
    "        k = self.w.shape[0]\n",
    "        y = np.zeros((m,k))\n",
    "        \n",
    "        for i in range(0,m):\n",
    "            y[i,:] = softmax(np.reshape(np.matmul(self.w,x[i,:]),k))\n",
    "        \n",
    "        return y"
   ]
  },
  {
   "cell_type": "markdown",
   "metadata": {},
   "source": [
    "$1.\\ \\textbf{Binary Classification:}$ (Logistic regression)"
   ]
  },
  {
   "cell_type": "markdown",
   "metadata": {},
   "source": [
    "$\\hat{y}^{(i)} = \\frac{1}{1+e^{-w^T x^{(i)}}}$"
   ]
  },
  {
   "cell_type": "markdown",
   "metadata": {},
   "source": [
    "$L_i=-(y^{(i)}log(\\hat{y}^{(i)})+(1-y^{(i)})log(1-\\hat{y}^{(i)}))$"
   ]
  },
  {
   "cell_type": "markdown",
   "metadata": {},
   "source": [
    "$L=\\sum_{i=1}^m L_i$"
   ]
  },
  {
   "cell_type": "markdown",
   "metadata": {},
   "source": [
    "$\\nabla_w L^{(i)} = (\\hat{y}^{(i)}-y^{(i)})\\ x^{(i)}$"
   ]
  },
  {
   "cell_type": "markdown",
   "metadata": {},
   "source": [
    "Stochastic gradient descent:"
   ]
  },
  {
   "cell_type": "markdown",
   "metadata": {},
   "source": [
    "$w = w - \\alpha \\nabla_w L^{(i)}$"
   ]
  },
  {
   "cell_type": "markdown",
   "metadata": {},
   "source": [
    "Data generation with randomized hypothesis:"
   ]
  },
  {
   "cell_type": "code",
   "execution_count": 13,
   "metadata": {
    "collapsed": false
   },
   "outputs": [
    {
     "data": {
      "image/png": "[encoded data removed]",
      "text/plain": [
       "<matplotlib.figure.Figure at 0xe8981d0>"
      ]
     },
     "metadata": {},
     "output_type": "display_data"
    }
   ],
   "source": [
    "w=np.random.randn(2)\n",
    "\n",
    "x=np.random.randn(1000,2)\n",
    "y=np.zeros(1000)\n",
    "\n",
    "for i in range(0,1000):\n",
    "    if(np.dot(w,x[i,:])>0):\n",
    "        y[i]=1\n",
    "        plt.scatter(x[i,0],x[i,1],color='r')\n",
    "    else:\n",
    "        plt.scatter(x[i,0],x[i,1],color='g')\n",
    "plt.show()"
   ]
  },
  {
   "cell_type": "markdown",
   "metadata": {},
   "source": [
    "Training a binary classifier (logistic regression):"
   ]
  },
  {
   "cell_type": "code",
   "execution_count": 34,
   "metadata": {
    "collapsed": false
   },
   "outputs": [
    {
     "data": {
      "image/png": "[encoded data removed]",
      "text/plain": [
       "<matplotlib.figure.Figure at 0xdc38630>"
      ]
     },
     "metadata": {},
     "output_type": "display_data"
    }
   ],
   "source": [
    "classifier = LogisticRegressionClass()\n",
    "classifier.max_epochs=100\n",
    "\n",
    "w_predicted = classifier.BinaryClassifier_fit(x,y)"
   ]
  },
  {
   "cell_type": "markdown",
   "metadata": {},
   "source": [
    "Above is the plot of the cross entropy loss with respect to the epochs in training. It is clear that the loss is flattened towards the end of training showing convergence."
   ]
  },
  {
   "cell_type": "code",
   "execution_count": 31,
   "metadata": {
    "collapsed": false
   },
   "outputs": [
    {
     "data": {
      "text/plain": [
       "array([-8.42589388,  8.42607588])"
      ]
     },
     "execution_count": 31,
     "metadata": {},
     "output_type": "execute_result"
    }
   ],
   "source": [
    "w_predicted"
   ]
  },
  {
   "cell_type": "code",
   "execution_count": 24,
   "metadata": {
    "collapsed": false
   },
   "outputs": [
    {
     "data": {
      "text/plain": [
       "array([-0.7447895 ,  0.74414992])"
      ]
     },
     "execution_count": 24,
     "metadata": {},
     "output_type": "execute_result"
    }
   ],
   "source": [
    "w"
   ]
  },
  {
   "cell_type": "markdown",
   "metadata": {},
   "source": [
    "It is to be noted that in this case of classification, only the ratio of the predicted and weights need to be constant over all feature weights. This can be clearly seen from the above values of predicted and true feature weights."
   ]
  },
  {
   "cell_type": "markdown",
   "metadata": {},
   "source": [
    "Now we plot the predicted class of the data in the same training dataset. We can see the stark similirity to the ground truth class labels."
   ]
  },
  {
   "cell_type": "code",
   "execution_count": 36,
   "metadata": {
    "collapsed": false
   },
   "outputs": [
    {
     "data": {
      "image/png": "[encoded data removed]",
      "text/plain": [
       "<matplotlib.figure.Figure at 0xdd47d30>"
      ]
     },
     "metadata": {},
     "output_type": "display_data"
    }
   ],
   "source": [
    "y_hat = classifier.BinaryClassifier_predict(x)\n",
    "\n",
    "for i in range(0,1000):\n",
    "    if(y_hat[i]>0.5):\n",
    "        plt.scatter(x[i,0],x[i,1],color='r')\n",
    "    else:\n",
    "        plt.scatter(x[i,0],x[i,1],color='g')\n",
    "plt.show()"
   ]
  },
  {
   "cell_type": "markdown",
   "metadata": {},
   "source": [
    "$\\textbf{Binary classification with non-linear features:}$"
   ]
  },
  {
   "cell_type": "markdown",
   "metadata": {},
   "source": [
    "To classify data which has a non-linear decision boundary, we incluse the nonlinear terms as additional features. This way, we can convert the non-linear classification problem into a linear classification problem (with non-linear features). This will only work when the form of the non-linearity is known a priori."
   ]
  },
  {
   "cell_type": "markdown",
   "metadata": {},
   "source": [
    "Generating data with randomized hypothesis: (only square of features are included)"
   ]
  },
  {
   "cell_type": "code",
   "execution_count": 107,
   "metadata": {
    "collapsed": false
   },
   "outputs": [
    {
     "data": {
      "image/png": "[encoded data removed]",
      "text/plain": [
       "<matplotlib.figure.Figure at 0xe8b19b0>"
      ]
     },
     "metadata": {},
     "output_type": "display_data"
    }
   ],
   "source": [
    "w=np.random.randn(4)\n",
    "\n",
    "temp=np.random.randn(1000,2)\n",
    "x=np.array([temp[:,0],temp[:,1],np.square(temp[:,0]),np.square(temp[:,1])]).T\n",
    "y=np.zeros(1000)\n",
    "\n",
    "for i in range(0,1000):\n",
    "    if(np.dot(w,x[i,:])>0):\n",
    "        y[i]=1\n",
    "        plt.scatter(x[i,0],x[i,1],color='r')\n",
    "    else:\n",
    "        plt.scatter(x[i,0],x[i,1],color='g')\n",
    "plt.show()"
   ]
  },
  {
   "cell_type": "markdown",
   "metadata": {},
   "source": [
    "Traing a binary classifier (logistic regression):"
   ]
  },
  {
   "cell_type": "code",
   "execution_count": 108,
   "metadata": {
    "collapsed": false
   },
   "outputs": [
    {
     "data": {
      "image/png": "[encoded data removed]",
      "text/plain": [
       "<matplotlib.figure.Figure at 0x109f7828>"
      ]
     },
     "metadata": {},
     "output_type": "display_data"
    }
   ],
   "source": [
    "classifier = LogisticRegressionClass()\n",
    "classifier.max_epochs=100\n",
    "\n",
    "w_predicted = classifier.BinaryClassifier_fit(x,y)"
   ]
  },
  {
   "cell_type": "markdown",
   "metadata": {},
   "source": [
    "The flattening of the cross entropy loss plotted above shows the convergence of classification. Now, we compare the predicted and actual feature weights:"
   ]
  },
  {
   "cell_type": "code",
   "execution_count": 109,
   "metadata": {
    "collapsed": false
   },
   "outputs": [
    {
     "data": {
      "text/plain": [
       "array([-7.72857715,  7.50422611, -4.69724896, -6.52836327])"
      ]
     },
     "execution_count": 109,
     "metadata": {},
     "output_type": "execute_result"
    }
   ],
   "source": [
    "w_predicted"
   ]
  },
  {
   "cell_type": "code",
   "execution_count": 110,
   "metadata": {
    "collapsed": false
   },
   "outputs": [
    {
     "data": {
      "text/plain": [
       "array([-0.72302959,  0.74910901, -0.46584099, -0.62882617])"
      ]
     },
     "execution_count": 110,
     "metadata": {},
     "output_type": "execute_result"
    }
   ],
   "source": [
    "w"
   ]
  },
  {
   "cell_type": "markdown",
   "metadata": {},
   "source": [
    "Again, it should be noted that the ratio of the feture weights and true weights is what will remain constant for each feature weight."
   ]
  },
  {
   "cell_type": "code",
   "execution_count": 111,
   "metadata": {
    "collapsed": false
   },
   "outputs": [
    {
     "data": {
      "image/png": "[encoded data removed]",
      "text/plain": [
       "<matplotlib.figure.Figure at 0xc7349e8>"
      ]
     },
     "metadata": {},
     "output_type": "display_data"
    }
   ],
   "source": [
    "y_hat = classifier.BinaryClassifier_predict(x)\n",
    "\n",
    "for i in range(0,1000):\n",
    "    if(y_hat[i]>0.5):\n",
    "        plt.scatter(x[i,0],x[i,1],color='r')\n",
    "    else:\n",
    "        plt.scatter(x[i,0],x[i,1],color='g')\n",
    "plt.show()"
   ]
  },
  {
   "cell_type": "markdown",
   "metadata": {},
   "source": [
    "It can be clearly seen that the plot of the class labels resembles closely the ground truth labels. The decision boundary (nearly an ellipse) is also captured as it is by the classifier. "
   ]
  },
  {
   "cell_type": "markdown",
   "metadata": {},
   "source": [
    "$\\textbf{Multiclass Classification:}$"
   ]
  },
  {
   "cell_type": "markdown",
   "metadata": {},
   "source": [
    "$\\hat{y}_j$ is representative of the probability of the data point being $j^{th}$ class."
   ]
  },
  {
   "cell_type": "markdown",
   "metadata": {},
   "source": [
    "$\\hat{y}_j=\\frac{e^{w_j x}}{\\sum_{j=1}^{k}e^{w_j x}}$"
   ]
  },
  {
   "cell_type": "markdown",
   "metadata": {},
   "source": [
    "Cost function:"
   ]
  },
  {
   "cell_type": "markdown",
   "metadata": {},
   "source": [
    "$L^{(i)}=-\\sum_{j=1}^{k} y_j^{(i)} log(\\hat{y}_k^{(i)})$"
   ]
  },
  {
   "cell_type": "markdown",
   "metadata": {},
   "source": [
    "Stochastic Gradient Descent:"
   ]
  },
  {
   "cell_type": "markdown",
   "metadata": {},
   "source": [
    "$\\nabla_{w_j} L^{(i)} = (\\hat{y}_j^{(i)}-y_j^{(i)})\\ x^{(i)}$"
   ]
  },
  {
   "cell_type": "markdown",
   "metadata": {},
   "source": [
    "$w_j = w_j - \\alpha \\nabla_{w_j} L^{(i)}$"
   ]
  },
  {
   "cell_type": "markdown",
   "metadata": {},
   "source": [
    "Generating data with 4 labels: (randomized hypothesis)"
   ]
  },
  {
   "cell_type": "code",
   "execution_count": 86,
   "metadata": {
    "collapsed": false
   },
   "outputs": [
    {
     "data": {
      "image/png": "[encoded data removed]",
      "text/plain": [
       "<matplotlib.figure.Figure at 0xe8a9710>"
      ]
     },
     "metadata": {},
     "output_type": "display_data"
    }
   ],
   "source": [
    "w=np.random.randn(2,2)\n",
    "\n",
    "x=np.random.randn(1000,2)\n",
    "y=np.zeros((1000,4))\n",
    "\n",
    "for i in range(0,1000):\n",
    "    if(np.dot(w[0,:],x[i,:])>0 and np.dot(w[1,:],x[i,:])>0):\n",
    "        y[i,0]=1\n",
    "        plt.scatter(x[i,0],x[i,1],color='r')\n",
    "    elif(np.dot(w[0,:],x[i,:])>0 and np.dot(w[1,:],x[i,:])<0):\n",
    "        y[i,1]=1\n",
    "        plt.scatter(x[i,0],x[i,1],color='g')\n",
    "    elif(np.dot(w[0,:],x[i,:])<0 and np.dot(w[1,:],x[i,:])>0):\n",
    "        y[i,2]=1\n",
    "        plt.scatter(x[i,0],x[i,1],color='b')\n",
    "    elif(np.dot(w[0,:],x[i,:])<0 and np.dot(w[1,:],x[i,:])<0):\n",
    "        y[i,3]=1\n",
    "        plt.scatter(x[i,0],x[i,1],color='y')\n",
    "        \n",
    "plt.show()"
   ]
  },
  {
   "cell_type": "markdown",
   "metadata": {},
   "source": [
    "Training a multiclass classifier (softmax classifier):"
   ]
  },
  {
   "cell_type": "code",
   "execution_count": 93,
   "metadata": {
    "collapsed": false
   },
   "outputs": [
    {
     "data": {
      "image/png": "[encoded data removed]",
      "text/plain": [
       "<matplotlib.figure.Figure at 0x10da1d68>"
      ]
     },
     "metadata": {},
     "output_type": "display_data"
    }
   ],
   "source": [
    "classifier = LogisticRegressionClass()\n",
    "classifier.max_epochs=100\n",
    "\n",
    "w_predicted = classifier.MultinomialRegression_fit(x,y)"
   ]
  },
  {
   "cell_type": "markdown",
   "metadata": {},
   "source": [
    "The above plot of shows that the classifier converged."
   ]
  },
  {
   "cell_type": "code",
   "execution_count": 94,
   "metadata": {
    "collapsed": false
   },
   "outputs": [
    {
     "data": {
      "text/plain": [
       "array([[ 7.29685773,  9.49505768],\n",
       "       [-3.15122426,  3.59764119],\n",
       "       [ 4.11586414, -2.42254011],\n",
       "       [-6.31388559, -8.39344282]])"
      ]
     },
     "execution_count": 94,
     "metadata": {},
     "output_type": "execute_result"
    }
   ],
   "source": [
    "w_predicted"
   ]
  },
  {
   "cell_type": "code",
   "execution_count": 96,
   "metadata": {
    "collapsed": false
   },
   "outputs": [
    {
     "data": {
      "image/png": "[encoded data removed]",
      "text/plain": [
       "<matplotlib.figure.Figure at 0x10d376d8>"
      ]
     },
     "metadata": {},
     "output_type": "display_data"
    }
   ],
   "source": [
    "y_hat = classifier.MultinomialRegression_predict(x)\n",
    "\n",
    "for i in range(0,1000):\n",
    "    if(y_hat[i,0]>0.25):\n",
    "        plt.scatter(x[i,0],x[i,1],color='r')\n",
    "    elif(y_hat[i,1]>0.25):\n",
    "        plt.scatter(x[i,0],x[i,1],color='g')\n",
    "    elif(y_hat[i,2]>0.25):\n",
    "        plt.scatter(x[i,0],x[i,1],color='b')\n",
    "    elif(y_hat[i,3]>0.25):\n",
    "        plt.scatter(x[i,0],x[i,1],color='y')\n",
    "plt.show()"
   ]
  },
  {
   "cell_type": "markdown",
   "metadata": {},
   "source": [
    "Clearly, this resembles the plot of the ground truth labels. Even the decision boundaries are captured by the classifier."
   ]
  },
  {
   "cell_type": "markdown",
   "metadata": {},
   "source": [
    "Which one of batch or stochastic gradient descent do you think will work better here? Why?"
   ]
  },
  {
   "cell_type": "markdown",
   "metadata": {},
   "source": [
    "In the case of stochastic gradient descent, we'll have to anneal the learning rate as the training progresses because, the classifier will be biased towards the latest example shown to it. If we anneal the learning rate, this bias will diminish to zero. On the other hand, batch gradient descent doesn't have this issue converges to feature weights which minimize the total expected loss. So, batch gradient descent has better generalization properties. But, this comes with a computational cost. Hence, even though both work well enough, Batch gradient descent is expected to work better."
   ]
  },
  {
   "cell_type": "markdown",
   "metadata": {},
   "source": [
    "$2.\\ \\textbf{MNIST Data Classification:}$"
   ]
  },
  {
   "cell_type": "markdown",
   "metadata": {},
   "source": [
    "Now, we use the multiclass classification method of sofmax classification to classify handwritten digits in the MNIST dataset. A fullfledged multiclass classification is performed below with the class lables from 0 to 9."
   ]
  },
  {
   "cell_type": "markdown",
   "metadata": {},
   "source": [
    "Extracting the dataset:"
   ]
  },
  {
   "cell_type": "code",
   "execution_count": 4,
   "metadata": {
    "collapsed": false
   },
   "outputs": [
    {
     "name": "stdout",
     "output_type": "stream",
     "text": [
      "('Extracting', 'train-images-idx3-ubyte.gz')\n",
      "('Extracting', 'train-labels-idx1-ubyte.gz')\n",
      "('Extracting', 't10k-images-idx3-ubyte.gz')\n",
      "('Extracting', 't10k-labels-idx1-ubyte.gz')\n"
     ]
    }
   ],
   "source": [
    "import gzip\n",
    "\n",
    "def extract_data(filename, num_images):\n",
    "  \"\"\"Extract the images into a 4D tensor [image index, y, x, channels].\n",
    "  Values are rescaled from [0, 255] down to [-0.5, 0.5].\n",
    "  \"\"\"\n",
    "  print('Extracting', filename)\n",
    "  with gzip.open(filename) as bytestream:\n",
    "    bytestream.read(16)\n",
    "    IMAGE_SIZE=28\n",
    "    buf = bytestream.read(IMAGE_SIZE * IMAGE_SIZE * num_images)\n",
    "    data = np.frombuffer(buf, dtype=np.uint8).astype(np.float32)\n",
    "    #data = (data - (PIXEL_DEPTH / 2.0)) / PIXEL_DEPTH\n",
    "    data = data.reshape(num_images, IMAGE_SIZE, IMAGE_SIZE, 1)\n",
    "    return data\n",
    "\n",
    "def extract_labels(filename, num_images):\n",
    "  \"\"\"Extract the labels into a vector of int64 label IDs.\"\"\"\n",
    "  print('Extracting', filename)\n",
    "  with gzip.open(filename) as bytestream:\n",
    "    bytestream.read(8)\n",
    "    buf = bytestream.read(1 * num_images)\n",
    "    labels = np.frombuffer(buf, dtype=np.uint8).astype(np.int64)\n",
    "  return labels\n",
    "\n",
    "\n",
    "train_data = extract_data('train-images-idx3-ubyte.gz', 60000)\n",
    "train_label= extract_labels('train-labels-idx1-ubyte.gz',60000)\n",
    "\n",
    "test_data = extract_data('t10k-images-idx3-ubyte.gz', 10000)\n",
    "test_label = extract_labels('t10k-labels-idx1-ubyte.gz', 10000)"
   ]
  },
  {
   "cell_type": "code",
   "execution_count": 67,
   "metadata": {
    "collapsed": false
   },
   "outputs": [
    {
     "data": {
      "text/plain": [
       "(60000L, 28L, 28L, 1L)"
      ]
     },
     "execution_count": 67,
     "metadata": {},
     "output_type": "execute_result"
    }
   ],
   "source": [
    "train_data.shape"
   ]
  },
  {
   "cell_type": "code",
   "execution_count": 68,
   "metadata": {
    "collapsed": false
   },
   "outputs": [
    {
     "name": "stdout",
     "output_type": "stream",
     "text": [
      "(255.0, 0.0)\n"
     ]
    }
   ],
   "source": [
    "print (np.max(train_data[0,:,:,:]), np.min(train_data[0,:,:,:]))"
   ]
  },
  {
   "cell_type": "markdown",
   "metadata": {},
   "source": [
    "Reshaping the data to roll out the images:"
   ]
  },
  {
   "cell_type": "code",
   "execution_count": 5,
   "metadata": {
    "collapsed": false
   },
   "outputs": [],
   "source": [
    "a = train_data.shape[1]\n",
    "b = train_data.shape[2]\n",
    "n = train_data.shape[0]\n",
    "\n",
    "temp = np.zeros((n,a*b))\n",
    "\n",
    "for i in range(0,n):\n",
    "    temp[i,]=np.reshape(train_data[i,:,:,:],a*b)\n",
    "\n",
    "train_data = temp/255.0\n",
    "\n",
    "a = test_data.shape[1]\n",
    "b = test_data.shape[2]\n",
    "n = test_data.shape[0]\n",
    "\n",
    "temp = np.zeros((n,a*b))\n",
    "\n",
    "for i in range(0,n):\n",
    "    temp[i,]=np.reshape(test_data[i,:,:,:],a*b)\n",
    "\n",
    "test_data = temp/255.0"
   ]
  },
  {
   "cell_type": "code",
   "execution_count": 6,
   "metadata": {
    "collapsed": false
   },
   "outputs": [
    {
     "data": {
      "text/plain": [
       "(60000L, 784L)"
      ]
     },
     "execution_count": 6,
     "metadata": {},
     "output_type": "execute_result"
    }
   ],
   "source": [
    "train_data.shape"
   ]
  },
  {
   "cell_type": "code",
   "execution_count": 7,
   "metadata": {
    "collapsed": false
   },
   "outputs": [
    {
     "data": {
      "text/plain": [
       "(10000L, 784L)"
      ]
     },
     "execution_count": 7,
     "metadata": {},
     "output_type": "execute_result"
    }
   ],
   "source": [
    "test_data.shape"
   ]
  },
  {
   "cell_type": "markdown",
   "metadata": {},
   "source": [
    "Generation of one hot vectors for both training data and testing data:"
   ]
  },
  {
   "cell_type": "code",
   "execution_count": 8,
   "metadata": {
    "collapsed": false
   },
   "outputs": [],
   "source": [
    "k=10\n",
    "\n",
    "y_train=np.zeros((train_data.shape[0],k))\n",
    "\n",
    "for i in range(0,train_data.shape[0]):\n",
    "    y_train[i,train_label[i]]=1\n",
    "\n",
    "y_test=np.zeros((test_data.shape[0],k))\n",
    "\n",
    "for i in range(0,test_data.shape[0]):\n",
    "    y_test[i,test_label[i]]=1"
   ]
  },
  {
   "cell_type": "markdown",
   "metadata": {},
   "source": [
    "Training a softmax classifier for multiclass classification:"
   ]
  },
  {
   "cell_type": "code",
   "execution_count": 9,
   "metadata": {
    "collapsed": false
   },
   "outputs": [
    {
     "name": "stdout",
     "output_type": "stream",
     "text": [
      "0\n",
      "1\n",
      "2\n",
      "3\n",
      "4\n",
      "5\n",
      "6\n",
      "7\n",
      "8\n",
      "9\n",
      "10\n",
      "11\n",
      "12\n",
      "13\n",
      "14\n",
      "15\n",
      "16\n",
      "17\n",
      "18\n",
      "19\n",
      "20\n",
      "21\n",
      "22\n",
      "23\n",
      "24\n",
      "25\n",
      "26\n",
      "27\n",
      "28\n",
      "29\n",
      "30\n",
      "31\n",
      "32\n",
      "33\n",
      "34\n",
      "35\n",
      "36\n",
      "37\n",
      "38\n",
      "39\n",
      "40\n",
      "41\n",
      "42\n",
      "43\n",
      "44\n",
      "45\n",
      "46\n",
      "47\n",
      "48\n",
      "49\n",
      "50\n",
      "51\n",
      "52\n",
      "53\n",
      "54\n",
      "55\n",
      "56\n",
      "57\n",
      "58\n",
      "59\n",
      "60\n",
      "61\n",
      "62\n",
      "63\n",
      "64\n",
      "65\n",
      "66\n",
      "67\n",
      "68\n",
      "69\n",
      "70\n",
      "71\n",
      "72\n",
      "73\n",
      "74\n",
      "75\n",
      "76\n",
      "77\n",
      "78\n",
      "79\n",
      "80\n",
      "81\n",
      "82\n",
      "83\n",
      "84\n",
      "85\n",
      "86\n",
      "87\n",
      "88\n",
      "89\n",
      "90\n",
      "91\n",
      "92\n",
      "93\n",
      "94\n",
      "95\n",
      "96\n",
      "97\n",
      "98\n",
      "99\n"
     ]
    }
   ],
   "source": [
    "classifier = LogisticRegressionClass()\n",
    "classifier.max_epochs = 100\n",
    "classifier.learning_rate = 0.01\n",
    "\n",
    "w_predicted = classifier.MultinomialRegression_fit(train_data,y_train)"
   ]
  },
  {
   "cell_type": "markdown",
   "metadata": {},
   "source": [
    "Predicting the class labels over the training dataset:"
   ]
  },
  {
   "cell_type": "code",
   "execution_count": 10,
   "metadata": {
    "collapsed": false
   },
   "outputs": [],
   "source": [
    "y_hat = classifier.MultinomialRegression_predict(test_data)"
   ]
  },
  {
   "cell_type": "code",
   "execution_count": 11,
   "metadata": {
    "collapsed": false
   },
   "outputs": [],
   "source": [
    "label_predict = np.zeros(test_label.shape[0])\n",
    "k=10\n",
    "\n",
    "for i in range(0,test_label.shape[0]):\n",
    "    label_predict[i] = np.argmax(y_hat[i,:])"
   ]
  },
  {
   "cell_type": "code",
   "execution_count": 66,
   "metadata": {
    "collapsed": false
   },
   "outputs": [
    {
     "name": "stdout",
     "output_type": "stream",
     "text": [
      "error rate of the classification was: 8.740000 percent\n"
     ]
    }
   ],
   "source": [
    "count=0\n",
    "for i in range(0,label_predict.shape[0]):\n",
    "    if(label_predict[i] != test_label[i]):\n",
    "        count+=1\n",
    "print \"error rate of the classification was: %f percent\" %(count*100.0/label_predict.shape[0])"
   ]
  },
  {
   "cell_type": "code",
   "execution_count": 56,
   "metadata": {
    "collapsed": false
   },
   "outputs": [
    {
     "data": {
      "image/png": "[encoded data removed]",
      "text/plain": [
       "<matplotlib.figure.Figure at 0xd96ae80>"
      ]
     },
     "metadata": {},
     "output_type": "display_data"
    }
   ],
   "source": [
    "plt.matshow(np.reshape(test_data[100,:],(a,b)),cmap='binary')\n",
    "plt.show()"
   ]
  },
  {
   "cell_type": "code",
   "execution_count": 61,
   "metadata": {
    "collapsed": false
   },
   "outputs": [
    {
     "data": {
      "text/plain": [
       "6"
      ]
     },
     "execution_count": 61,
     "metadata": {},
     "output_type": "execute_result"
    }
   ],
   "source": [
    "np.argmax(classifier.MultinomialRegression_predict(np.array([test_data[100,:]])))"
   ]
  },
  {
   "cell_type": "code",
   "execution_count": 68,
   "metadata": {
    "collapsed": false
   },
   "outputs": [
    {
     "data": {
      "text/plain": [
       "array([[  2.26741146e-04,   3.22141491e-03,   1.13918421e-01,\n",
       "          2.74662993e-04,   1.62799084e-06,   1.60630201e-05,\n",
       "          8.67685285e-01,   1.33273574e-07,   1.46451748e-02,\n",
       "          1.04759103e-05]])"
      ]
     },
     "execution_count": 68,
     "metadata": {},
     "output_type": "execute_result"
    }
   ],
   "source": [
    "classifier.MultinomialRegression_predict(np.array([test_data[100,:]]))"
   ]
  },
  {
   "cell_type": "markdown",
   "metadata": {},
   "source": [
    "Estimated probability of it being 6 is 0.8677"
   ]
  },
  {
   "cell_type": "code",
   "execution_count": 58,
   "metadata": {
    "collapsed": false
   },
   "outputs": [
    {
     "data": {
      "image/png": "[encoded data removed]",
      "text/plain": [
       "<matplotlib.figure.Figure at 0xcff10b8>"
      ]
     },
     "metadata": {},
     "output_type": "display_data"
    }
   ],
   "source": [
    "plt.matshow(np.reshape(test_data[200,:],(a,b)),cmap='binary')\n",
    "plt.show()"
   ]
  },
  {
   "cell_type": "code",
   "execution_count": 62,
   "metadata": {
    "collapsed": false
   },
   "outputs": [
    {
     "data": {
      "text/plain": [
       "3"
      ]
     },
     "execution_count": 62,
     "metadata": {},
     "output_type": "execute_result"
    }
   ],
   "source": [
    "np.argmax(classifier.MultinomialRegression_predict(np.array([test_data[200,:]])))"
   ]
  },
  {
   "cell_type": "code",
   "execution_count": 63,
   "metadata": {
    "collapsed": false
   },
   "outputs": [
    {
     "data": {
      "text/plain": [
       "array([[  1.56738854e-08,   1.71028318e-19,   4.56278612e-05,\n",
       "          9.99371611e-01,   2.45838744e-16,   5.82564683e-04,\n",
       "          3.99378609e-12,   5.39729103e-19,   1.80665200e-07,\n",
       "          4.02856390e-12]])"
      ]
     },
     "execution_count": 63,
     "metadata": {},
     "output_type": "execute_result"
    }
   ],
   "source": [
    "classifier.MultinomialRegression_predict(np.array([test_data[200,:]]))"
   ]
  },
  {
   "cell_type": "markdown",
   "metadata": {},
   "source": [
    "Estimated probability of it being 3 is 0.9994"
   ]
  },
  {
   "cell_type": "code",
   "execution_count": 64,
   "metadata": {
    "collapsed": false
   },
   "outputs": [
    {
     "data": {
      "image/png": "[encoded data removed]",
      "text/plain": [
       "<matplotlib.figure.Figure at 0xca79f98>"
      ]
     },
     "metadata": {},
     "output_type": "display_data"
    }
   ],
   "source": [
    "plt.matshow(np.reshape(test_data[300,:],(a,b)),cmap='binary')\n",
    "plt.show()"
   ]
  },
  {
   "cell_type": "code",
   "execution_count": 65,
   "metadata": {
    "collapsed": false
   },
   "outputs": [
    {
     "data": {
      "text/plain": [
       "4"
      ]
     },
     "execution_count": 65,
     "metadata": {},
     "output_type": "execute_result"
    }
   ],
   "source": [
    "np.argmax(classifier.MultinomialRegression_predict(np.array([test_data[300,:]])))"
   ]
  },
  {
   "cell_type": "code",
   "execution_count": 67,
   "metadata": {
    "collapsed": false
   },
   "outputs": [
    {
     "data": {
      "text/plain": [
       "array([[  5.58800532e-06,   8.86274459e-02,   1.46628350e-02,\n",
       "          1.70955635e-01,   5.08065698e-01,   1.33409686e-02,\n",
       "          4.13825889e-02,   4.13725227e-02,   2.16189900e-02,\n",
       "          9.99677284e-02]])"
      ]
     },
     "execution_count": 67,
     "metadata": {},
     "output_type": "execute_result"
    }
   ],
   "source": [
    "classifier.MultinomialRegression_predict(np.array([test_data[300,:]]))"
   ]
  },
  {
   "cell_type": "markdown",
   "metadata": {},
   "source": [
    "Estimated probability of it being 4 is 0.508 "
   ]
  }
 ],
 "metadata": {
  "kernelspec": {
   "display_name": "Python 2",
   "language": "python",
   "name": "python2"
  },
  "language_info": {
   "codemirror_mode": {
    "name": "ipython",
    "version": 2
   },
   "file_extension": ".py",
   "mimetype": "text/x-python",
   "name": "python",
   "nbconvert_exporter": "python",
   "pygments_lexer": "ipython2",
   "version": "2.7.13"
  }
 },
 "nbformat": 4,
 "nbformat_minor": 0
}
